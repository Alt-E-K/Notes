{
 "cells": [
  {
   "cell_type": "markdown",
   "metadata": {},
   "source": [
    "To share Jupyter Notebooks upload to github and use nbviewer\n",
    "\n"
   ]
  },
  {
   "cell_type": "markdown",
   "metadata": {},
   "source": [
    "# Day 3:\n",
    "\n",
    "## Functions\n",
    "\n",
    "\n",
    "mini exercise:"
   ]
  },
  {
   "cell_type": "code",
   "execution_count": 11,
   "metadata": {},
   "outputs": [
    {
     "name": "stdout",
     "output_type": "stream",
     "text": [
      "There are 13 students at IronHack Data Analytics - June 2020. Pol is one of them.\n",
      "There are 3 teachers at IronHack Data Analytics - June 2020. Anna is one of them.\n"
     ]
    }
   ],
   "source": [
    "students = [\"Carles\", \"Sara\", \"Pau\", \"Pol\", \"Mireia\", \"Erwan\", \"Felipe\", \"Mar\", \"Sander\", \"Marta\", \"Ramon\", \"Javier\", \"Cristina\"]\n",
    "teachers = [\"Guillem\", \"Ali\", \"Anna\"]\n",
    "\n",
    "import random\n",
    " #its a bit cutre because positional arguments\n",
    "    \n",
    "def iron_hack2020(arg1,arg2):\n",
    "\n",
    "    lenght_st = len(arg1)\n",
    "    lenght_teacher = len(arg2)\n",
    "    name_st=random.choice(arg1)\n",
    "    name_ta=random.choice(arg2)\n",
    "\n",
    "    print(f'There are {lenght_st} students at IronHack Data Analytics - June 2020. {name_st} is one of them.')\n",
    "    print(f'There are {lenght_teacher} teachers at IronHack Data Analytics - June 2020. {name_ta} is one of them.')\n",
    "\n",
    "\n",
    "iron_hack2020(students,teachers)"
   ]
  },
  {
   "cell_type": "markdown",
   "metadata": {},
   "source": [
    "The code was not wrong per se, but notice how it does the same thing twice, we could have make it take just one argument and then use it twice.\n",
    "But how to modify the string that says weather they are students or teachers?\n",
    "It is generally not good practice to reference the name of the variable. It can generate ambiguity.\n",
    "We could however pass another argument that was the name of the group in the string"
   ]
  },
  {
   "cell_type": "code",
   "execution_count": 6,
   "metadata": {},
   "outputs": [
    {
     "name": "stdout",
     "output_type": "stream",
     "text": [
      "There are 3 people at IronHack Data Analytics - June 2020.Ali is one of them\n"
     ]
    }
   ],
   "source": [
    "#code made efficient and also robust because we put a default option in the second argument\n",
    "def howmany(group,group_name='people'):\n",
    "    print(f'There are {len(group)} {str(group_name)} at IronHack Data Analytics - June 2020.{random.choice(group)} is one of them')\n",
    "    \n",
    "howmany(teachers)"
   ]
  },
  {
   "cell_type": "markdown",
   "metadata": {},
   "source": [
    "To make this a module we need to save it as a python file because as a Jupyter notebook it will save as json."
   ]
  },
  {
   "cell_type": "code",
   "execution_count": 8,
   "metadata": {},
   "outputs": [],
   "source": [
    "import functionhowmany"
   ]
  },
  {
   "cell_type": "code",
   "execution_count": 10,
   "metadata": {},
   "outputs": [
    {
     "name": "stdout",
     "output_type": "stream",
     "text": [
      "There are 13 people at IronHack Data Analytics - June 2020.Felipe is one of them\n"
     ]
    }
   ],
   "source": [
    "functionhowmany.howmany(students)"
   ]
  },
  {
   "cell_type": "markdown",
   "metadata": {},
   "source": [
    "We wrote it in a Jupyter, downloaded as Python and imported it. Super cool."
   ]
  },
  {
   "cell_type": "markdown",
   "metadata": {},
   "source": [
    "About the scope of functions. It is not good practice to have local and global variables that refer to different things called the same. Also it is not good practice to locally affect a global function, it can be done, but it is not recommended."
   ]
  },
  {
   "cell_type": "markdown",
   "metadata": {},
   "source": [
    "Return stateent in functions: if we want to store the result or product of a function we need to put return when defining the function, if we print it will just show the result but not store it. "
   ]
  },
  {
   "cell_type": "markdown",
   "metadata": {},
   "source": [
    "## Lambda Functions"
   ]
  },
  {
   "cell_type": "markdown",
   "metadata": {},
   "source": [
    "It normally works like this lambda (arg1,arg2: arg1(relation,action,operation) arg2)"
   ]
  },
  {
   "cell_type": "code",
   "execution_count": 20,
   "metadata": {},
   "outputs": [
    {
     "name": "stdout",
     "output_type": "stream",
     "text": [
      "There are 13 students at IronHack Data Analytics  June 2020.Sara is one of them\n"
     ]
    }
   ],
   "source": [
    "names = lambda group ,group_name : print (f'There are {len(group)} {str(group_name)} at IronHack Data Analytics  June 2020.{random.choice(group)} is one of them')\n",
    "\n",
    "\n",
    "names(students,'students')"
   ]
  },
  {
   "cell_type": "markdown",
   "metadata": {},
   "source": [
    "How to use conditional logic and loops inside lambda?"
   ]
  },
  {
   "cell_type": "code",
   "execution_count": 21,
   "metadata": {},
   "outputs": [],
   "source": [
    "#normal function\n",
    "def howmany (group, group_name = 'people'):\n",
    "    if len(group) < 5:\n",
    "        return 'The group is too small!'\n",
    "    else:\n",
    "        return'There are {len(group)} {str(group_name)} at IronHack Data Analytics  June 2020.{random.choice(group)} is one of them'\n"
   ]
  },
  {
   "cell_type": "code",
   "execution_count": 25,
   "metadata": {},
   "outputs": [
    {
     "ename": "SyntaxError",
     "evalue": "invalid syntax (<ipython-input-25-af9311fcc36b>, line 1)",
     "output_type": "error",
     "traceback": [
      "\u001b[1;36m  File \u001b[1;32m\"<ipython-input-25-af9311fcc36b>\"\u001b[1;36m, line \u001b[1;32m1\u001b[0m\n\u001b[1;33m    howmany_lambda = lambda group, group_name='people': return 'The group is too small!' if len(group) <5 else f'There are {len(group)} {str(group_name)} at IronHack Data Analytics  June 2020.{random.choice(group)} is one of them'\u001b[0m\n\u001b[1;37m                                                             ^\u001b[0m\n\u001b[1;31mSyntaxError\u001b[0m\u001b[1;31m:\u001b[0m invalid syntax\n"
     ]
    }
   ],
   "source": [
    "howmany_lambda = lambda group, group_name='people': return 'The group is too small!' if len(group) <5 else f'There are {len(group)} {str(group_name)} at IronHack Data Analytics  June 2020.{random.choice(group)} is one of them'\n",
    "\n",
    "howmany_lambda(students,'students')"
   ]
  },
  {
   "cell_type": "code",
   "execution_count": null,
   "metadata": {},
   "outputs": [],
   "source": []
  },
  {
   "cell_type": "code",
   "execution_count": null,
   "metadata": {},
   "outputs": [],
   "source": []
  }
 ],
 "metadata": {
  "kernelspec": {
   "display_name": "Python 3",
   "language": "python",
   "name": "python3"
  },
  "language_info": {
   "codemirror_mode": {
    "name": "ipython",
    "version": 3
   },
   "file_extension": ".py",
   "mimetype": "text/x-python",
   "name": "python",
   "nbconvert_exporter": "python",
   "pygments_lexer": "ipython3",
   "version": "3.7.6"
  }
 },
 "nbformat": 4,
 "nbformat_minor": 4
}
